{
 "cells": [
  {
   "cell_type": "code",
   "execution_count": 13,
   "id": "04af02e4-0b93-4231-b0ec-5534e944301b",
   "metadata": {},
   "outputs": [
    {
     "name": "stdin",
     "output_type": "stream",
     "text": [
      "Enter the name of the movie to get recommendations:  The Proposal\n"
     ]
    },
    {
     "name": "stdout",
     "output_type": "stream",
     "text": [
      "Movies similar to 'The Proposal':\n",
      "            Penelope\n",
      "  Our Family Wedding\n",
      "        When in Rome\n",
      "Sex and the City Two\n",
      "  Sex and the City 2\n"
     ]
    }
   ],
   "source": [
    "import pandas as pd\n",
    "from sklearn.feature_extraction.text import TfidfVectorizer\n",
    "from sklearn.metrics.pairwise import cosine_similarity\n",
    "\n",
    "# Load dataset\n",
    "data = pd.read_csv('movies.csv')\n",
    "\n",
    "# Create feature column\n",
    "data['Features'] = (\n",
    "    data['Genre'].fillna('') + ' ' +\n",
    "    data['Audience score %'].astype(str) + ' ' +\n",
    "    data['Profitability'].astype(str)\n",
    ")\n",
    "\n",
    "# TF-IDF Vectorizer\n",
    "tfidf = TfidfVectorizer(stop_words='english')\n",
    "tfidf_matrix = tfidf.fit_transform(data['Features'])\n",
    "\n",
    "# Cosine similarity\n",
    "cosine_sim = cosine_similarity(tfidf_matrix, tfidf_matrix)\n",
    "\n",
    "# Recommendation function\n",
    "def recommend_movies(movie_title, cosine_sim=cosine_sim, data=data):\n",
    "    try:\n",
    "        idx = data[data['Film'] == movie_title].index[0]\n",
    "    except IndexError:\n",
    "        return \"Movie not found in the dataset!\"\n",
    "    \n",
    "    sim_scores = list(enumerate(cosine_sim[idx]))\n",
    "    sim_scores = sorted(sim_scores, key=lambda x: x[1], reverse=True)\n",
    "    sim_scores = sim_scores[1:6]  # top 5 excluding itself\n",
    "    movie_indices = [i[0] for i in sim_scores]\n",
    "    \n",
    "    return data['Film'].iloc[movie_indices]\n",
    "\n",
    "# User input\n",
    "movie_title = input(\"Enter the name of the movie to get recommendations: \")\n",
    "recommended_movies = recommend_movies(movie_title)\n",
    "\n",
    "# Output\n",
    "if isinstance(recommended_movies, str):\n",
    "    print(recommended_movies)\n",
    "else:\n",
    "    print(f\"Movies similar to '{movie_title}':\")\n",
    "    print(recommended_movies.to_string(index=False))\n"
   ]
  },
  {
   "cell_type": "code",
   "execution_count": null,
   "id": "e263766a-fdeb-445e-bee5-0207f6f3e583",
   "metadata": {},
   "outputs": [],
   "source": []
  }
 ],
 "metadata": {
  "kernelspec": {
   "display_name": "Python 3 (ipykernel)",
   "language": "python",
   "name": "python3"
  },
  "language_info": {
   "codemirror_mode": {
    "name": "ipython",
    "version": 3
   },
   "file_extension": ".py",
   "mimetype": "text/x-python",
   "name": "python",
   "nbconvert_exporter": "python",
   "pygments_lexer": "ipython3",
   "version": "3.12.7"
  }
 },
 "nbformat": 4,
 "nbformat_minor": 5
}
